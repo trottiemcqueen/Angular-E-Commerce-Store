{
  "nbformat": 4,
  "nbformat_minor": 0,
  "metadata": {
    "colab": {
      "provenance": [],
      "authorship_tag": "ABX9TyMjAb2VgOU2XxfuyrGD2ihI",
      "include_colab_link": true
    },
    "kernelspec": {
      "name": "python3",
      "display_name": "Python 3"
    },
    "language_info": {
      "name": "python"
    }
  },
  "cells": [
    {
      "cell_type": "markdown",
      "metadata": {
        "id": "view-in-github",
        "colab_type": "text"
      },
      "source": [
        "<a href=\"https://colab.research.google.com/github/trottiemcqueen/Angular-E-Commerce-Store/blob/main/002_tensorflow_fundamentals.ipynb\" target=\"_parent\"><img src=\"https://colab.research.google.com/assets/colab-badge.svg\" alt=\"Open In Colab\"/></a>"
      ]
    },
    {
      "cell_type": "markdown",
      "source": [
        "### Cont. Creating tensors with `tf.Variable`"
      ],
      "metadata": {
        "id": "cotN3yzIm3yW"
      }
    },
    {
      "cell_type": "code",
      "execution_count": 3,
      "metadata": {
        "colab": {
          "base_uri": "https://localhost:8080/"
        },
        "id": "7mnlGkyMLYV7",
        "outputId": "22e369cc-50af-479a-dc60-0490833be741"
      },
      "outputs": [
        {
          "output_type": "execute_result",
          "data": {
            "text/plain": [
              "(<tf.Variable 'Variable:0' shape=(2,) dtype=int32, numpy=array([10,  7], dtype=int32)>,\n",
              " <tf.Tensor: shape=(2,), dtype=int32, numpy=array([10,  7], dtype=int32)>)"
            ]
          },
          "metadata": {},
          "execution_count": 3
        }
      ],
      "source": [
        "import tensorflow as tf\n",
        "\n",
        "changeable_tensor = tf.Variable([10, 7])\n",
        "unchangeable_tensor = tf.constant([10, 7])\n",
        "changeable_tensor, unchangeable_tensor"
      ]
    },
    {
      "cell_type": "code",
      "source": [
        "# How about we try .assign()\n",
        "changeable_tensor[0].assign(7)\n",
        "changeable_tensor"
      ],
      "metadata": {
        "colab": {
          "base_uri": "https://localhost:8080/"
        },
        "id": "WjYdlgTjrpw7",
        "outputId": "05f03987-77a5-4bea-8d2b-8012d2241d51"
      },
      "execution_count": 4,
      "outputs": [
        {
          "output_type": "execute_result",
          "data": {
            "text/plain": [
              "<tf.Variable 'Variable:0' shape=(2,) dtype=int32, numpy=array([7, 7], dtype=int32)>"
            ]
          },
          "metadata": {},
          "execution_count": 4
        }
      ]
    },
    {
      "cell_type": "markdown",
      "source": [
        "const tensor is common sense like normal code, is unchangeable. Note: Rarely in practice will you need to decide whether to use `tf.constant` or `tf.Variable` to create tensors, as Tensorflow will do this for us. If in doubt, use `tf.constant` and change later if needed."
      ],
      "metadata": {
        "id": "ecRuiPZRuSND"
      }
    },
    {
      "cell_type": "markdown",
      "source": [
        "### Creating random tensors\n",
        "\n",
        "Random tensors are tensore of some abitrary size which contain random numbers."
      ],
      "metadata": {
        "id": "5K0H2WAtvKqa"
      }
    },
    {
      "cell_type": "code",
      "source": [
        "# Create two random (but the same) tensors\n",
        "random_1 = tf.random.Generator.from_seed(42) # set seed for reproducibility\n",
        "random_1 = random_1.normal(shape=(3, 2))\n",
        "random_2 = tf.random.Generator.from_seed(42)\n",
        "random_2 = random_2.normal(shape=(3, 2))\n",
        "\n",
        "# Are they equal?\n",
        "random_1, random_2, random_1 == random_2"
      ],
      "metadata": {
        "colab": {
          "base_uri": "https://localhost:8080/"
        },
        "id": "fBKdTjwSv-ug",
        "outputId": "44451738-4c49-46e5-9680-1512d698655c"
      },
      "execution_count": 8,
      "outputs": [
        {
          "output_type": "execute_result",
          "data": {
            "text/plain": [
              "(<tf.Tensor: shape=(3, 2), dtype=float32, numpy=\n",
              " array([[-0.7565803 , -0.06854702],\n",
              "        [ 0.07595026, -1.2573844 ],\n",
              "        [-0.23193763, -1.8107855 ]], dtype=float32)>,\n",
              " <tf.Tensor: shape=(3, 2), dtype=float32, numpy=\n",
              " array([[-0.7565803 , -0.06854702],\n",
              "        [ 0.07595026, -1.2573844 ],\n",
              "        [-0.23193763, -1.8107855 ]], dtype=float32)>,\n",
              " <tf.Tensor: shape=(3, 2), dtype=bool, numpy=\n",
              " array([[ True,  True],\n",
              "        [ True,  True],\n",
              "        [ True,  True]])>)"
            ]
          },
          "metadata": {},
          "execution_count": 8
        }
      ]
    },
    {
      "cell_type": "markdown",
      "source": [
        "### Shuffle the order of elements in a tensor"
      ],
      "metadata": {
        "id": "I0sgNjCN3Plb"
      }
    },
    {
      "cell_type": "code",
      "source": [
        "# Shuffle a tensor (valuable for when you want to shuffle your data so the inherent order doesn't effect learning)\n",
        "not_shuffled = tf. constant([[10, 7],\n",
        "                             [3, 4],\n",
        "                             [2, 5]])\n",
        "# Shuffle our non-shuffled tensor\n",
        "tf.random.shuffle(not_shuffled)"
      ],
      "metadata": {
        "colab": {
          "base_uri": "https://localhost:8080/"
        },
        "id": "z7firG--zsFb",
        "outputId": "21618c3d-928c-4494-82e6-8f43e11985e7"
      },
      "execution_count": 10,
      "outputs": [
        {
          "output_type": "execute_result",
          "data": {
            "text/plain": [
              "<tf.Tensor: shape=(3, 2), dtype=int32, numpy=\n",
              "array([[10,  7],\n",
              "       [ 2,  5],\n",
              "       [ 3,  4]], dtype=int32)>"
            ]
          },
          "metadata": {},
          "execution_count": 10
        }
      ]
    },
    {
      "cell_type": "markdown",
      "source": [
        "🦾 **Exercise:** Read through Tensorflow documentation on random seed generation: https://www.tensorflow.org/api_docs/python/tf/random/set_seed and practice writing 5 random tensors and shuffle them."
      ],
      "metadata": {
        "id": "7lD67ubq6S-g"
      }
    },
    {
      "cell_type": "code",
      "source": [
        "import tensorflow as tf\n",
        "\n",
        "\n",
        "random_3 = tf.random.Generator.from_seed(256)\n",
        "random_3 = random_3.normal(shape=(3, 2))\n",
        "random_4 = tf.random.Generator.from_seed(256)\n",
        "random_4 = random_4.normal(shape=(3, 2))\n",
        "random_5 = tf.random.Generator.from_seed(500)\n",
        "random_5 = random_5.normal(shape=(3, 2))\n",
        "random_6 = tf.random.Generator.from_seed(500)\n",
        "random_6 = random_6.normal(shape=(3, 2))\n",
        "random_7 = tf.random.Generator.from_seed(900)\n",
        "random_7 = random_7.normal(shape=(3, 2))\n",
        "random_8 = tf.random.Generator.from_seed(900)\n",
        "random_8 = random_8.normal(shape=(3, 2))\n",
        "\n",
        "random_3, random_4, random_5, random_6, random_7, random_8\n"
      ],
      "metadata": {
        "colab": {
          "base_uri": "https://localhost:8080/"
        },
        "id": "FqLJ8JHO7NC3",
        "outputId": "4e77c504-ffc1-42a3-8767-8605e8564616"
      },
      "execution_count": 3,
      "outputs": [
        {
          "output_type": "execute_result",
          "data": {
            "text/plain": [
              "(<tf.Tensor: shape=(3, 2), dtype=float32, numpy=\n",
              " array([[-1.0359411 ,  1.5315233 ],\n",
              "        [ 0.51527184, -0.76588607],\n",
              "        [ 1.6272374 ,  0.04138071]], dtype=float32)>,\n",
              " <tf.Tensor: shape=(3, 2), dtype=float32, numpy=\n",
              " array([[-1.0359411 ,  1.5315233 ],\n",
              "        [ 0.51527184, -0.76588607],\n",
              "        [ 1.6272374 ,  0.04138071]], dtype=float32)>,\n",
              " <tf.Tensor: shape=(3, 2), dtype=float32, numpy=\n",
              " array([[ 0.6467872 , -0.70762324],\n",
              "        [-0.05593427, -0.52378434],\n",
              "        [-0.02676746, -0.8452239 ]], dtype=float32)>,\n",
              " <tf.Tensor: shape=(3, 2), dtype=float32, numpy=\n",
              " array([[ 0.6467872 , -0.70762324],\n",
              "        [-0.05593427, -0.52378434],\n",
              "        [-0.02676746, -0.8452239 ]], dtype=float32)>,\n",
              " <tf.Tensor: shape=(3, 2), dtype=float32, numpy=\n",
              " array([[ 0.03976075, -0.09035786],\n",
              "        [ 1.3931489 , -0.20710102],\n",
              "        [-1.0587467 ,  0.66279715]], dtype=float32)>,\n",
              " <tf.Tensor: shape=(3, 2), dtype=float32, numpy=\n",
              " array([[ 0.03976075, -0.09035786],\n",
              "        [ 1.3931489 , -0.20710102],\n",
              "        [-1.0587467 ,  0.66279715]], dtype=float32)>)"
            ]
          },
          "metadata": {},
          "execution_count": 3
        }
      ]
    },
    {
      "cell_type": "code",
      "source": [
        "lets_shuffle1 = tf.constant([[10, 7],\n",
        "                             [3, 4],\n",
        "                             [2, 5]])\n",
        "tf.random.shuffle(lets_shuffle1),\n",
        "\n",
        "random_3 = tf.constant([[-1.0359411 ,  1.5315233 ],\n",
        "        [ 0.51527184, -0.76588607],\n",
        "        [ 1.6272374 ,  0.04138071]])\n",
        "tf.random.shuffle(random_3),\n",
        "\n",
        "lets_shuffle2 = tf.constant([[111, 70],\n",
        "                             [33, 44],\n",
        "                             [2, 5]])\n",
        "tf.random.shuffle(lets_shuffle2),\n",
        "\n",
        "lets_shuffle3 = tf.constant([[10, 7],\n",
        "                             [303, 411],\n",
        "                             [200, 553]])\n",
        "tf.random.shuffle(lets_shuffle3),\n",
        "\n",
        "lets_shuffle4 = tf.constant([[10, 7],\n",
        "                             [3, 4],\n",
        "                             [2, 5]])\n",
        "tf.random.shuffle(lets_shuffle4),\n",
        "\n",
        "lets_shuffle5 = tf.constant([[10, 7],\n",
        "                             [3, 4],\n",
        "                             [2, 5]])\n",
        "tf.random.shuffle(lets_shuffle5),\n",
        "\n",
        "lets_shuffle6 = tf.constant([[10, 70],\n",
        "                             [31, 413],\n",
        "                             [23, 35]])\n",
        "tf.random.shuffle(lets_shuffle6),\n",
        "\n",
        "lets_shuffle7 = tf.constant([[10, 70],\n",
        "                             [3, 40],\n",
        "                             [201, 51]])\n",
        "tf.random.shuffle(lets_shuffle7)"
      ],
      "metadata": {
        "colab": {
          "base_uri": "https://localhost:8080/"
        },
        "id": "Gv-i47Bl4OQy",
        "outputId": "7d3fb1af-dac0-45cb-b5a9-4836ca49c240"
      },
      "execution_count": 5,
      "outputs": [
        {
          "output_type": "execute_result",
          "data": {
            "text/plain": [
              "<tf.Tensor: shape=(3, 2), dtype=int32, numpy=\n",
              "array([[ 10,  70],\n",
              "       [  3,  40],\n",
              "       [201,  51]], dtype=int32)>"
            ]
          },
          "metadata": {},
          "execution_count": 5
        }
      ]
    },
    {
      "cell_type": "markdown",
      "source": [
        "Learned a lesson when implementing the shuffle, is that only recognizes and runs the last function. Will not run a list of functions like the generating random.Generator. ***Note:*** Will have to run the shuffle one tensor at a time."
      ],
      "metadata": {
        "id": "WSYvoLFx6y2k"
      }
    },
    {
      "cell_type": "code",
      "source": [],
      "metadata": {
        "id": "XlsWgmOA7qPt"
      },
      "execution_count": null,
      "outputs": []
    }
  ]
}